{
 "cells": [
  {
   "cell_type": "markdown",
   "metadata": {},
   "source": [
    "# Top spammers\n",
    "Descending list of users that sent the most messages. "
   ]
  },
  {
   "cell_type": "code",
   "execution_count": 10,
   "metadata": {},
   "outputs": [
    {
     "ename": "FileNotFoundError",
     "evalue": "[Errno 2] No such file or directory: '.txt'",
     "output_type": "error",
     "traceback": [
      "\u001b[1;31m---------------------------------------------------------------------------\u001b[0m",
      "\u001b[1;31mFileNotFoundError\u001b[0m                         Traceback (most recent call last)",
      "\u001b[1;32m<ipython-input-10-f93f32a1a551>\u001b[0m in \u001b[0;36m<module>\u001b[1;34m()\u001b[0m\n\u001b[0;32m      3\u001b[0m \u001b[1;33m\u001b[0m\u001b[0m\n\u001b[0;32m      4\u001b[0m \u001b[1;31m# read chat data\u001b[0m\u001b[1;33m\u001b[0m\u001b[1;33m\u001b[0m\u001b[0m\n\u001b[1;32m----> 5\u001b[1;33m \u001b[1;32mwith\u001b[0m \u001b[0mopen\u001b[0m\u001b[1;33m(\u001b[0m\u001b[0mchat_file\u001b[0m\u001b[1;33m,\u001b[0m \u001b[0mencoding\u001b[0m\u001b[1;33m=\u001b[0m\u001b[1;34m\"utf8\"\u001b[0m\u001b[1;33m)\u001b[0m \u001b[1;32mas\u001b[0m \u001b[0mf\u001b[0m\u001b[1;33m:\u001b[0m\u001b[1;33m\u001b[0m\u001b[0m\n\u001b[0m\u001b[0;32m      6\u001b[0m     \u001b[0mtext\u001b[0m \u001b[1;33m=\u001b[0m \u001b[0mf\u001b[0m\u001b[1;33m.\u001b[0m\u001b[0mreadlines\u001b[0m\u001b[1;33m(\u001b[0m\u001b[1;33m)\u001b[0m\u001b[1;33m\u001b[0m\u001b[0m\n\u001b[0;32m      7\u001b[0m \u001b[1;33m\u001b[0m\u001b[0m\n",
      "\u001b[1;31mFileNotFoundError\u001b[0m: [Errno 2] No such file or directory: '.txt'"
     ]
    }
   ],
   "source": [
    "# Change this string if your chat log has a different name (or rename the file to chat.txt)\n",
    "chat_file = \"chat.txt\"\n",
    "\n",
    "# read chat data\n",
    "with open(chat_file, encoding=\"utf8\") as f:\n",
    "    text = f.readlines()\n",
    "\n",
    "# create dictionary for users\n",
    "users = {}\n",
    "\n",
    "for i in range(len(text)):\n",
    "    # check if message\n",
    "    if text[i].count(\":\") > 1 and text[i][0].isdigit():\n",
    "        # get user\n",
    "        content = text[i].split(\"-\", 3)[3:]\n",
    "        username = content[0].split(\":\")[:1]\n",
    "        user = username[0].replace(\" \", \"\", 1)\n",
    "        \n",
    "        # count\n",
    "        if user in users:\n",
    "            users[user] += 1\n",
    "        else:\n",
    "            users[user] = 1\n",
    "\n",
    "# sort\n",
    "users_sorted = []\n",
    "scores_sorted = []\n",
    "\n",
    "while users:\n",
    "    top_user = \"\"\n",
    "    top_score = 0\n",
    "    \n",
    "    for user in users:\n",
    "        if users[user] > top_score:\n",
    "            top_user = user\n",
    "            top_score = users[user]\n",
    "    \n",
    "    users_sorted.append(top_user)\n",
    "    scores_sorted.append(top_score)\n",
    "    del users[top_user]\n",
    "\n",
    "# show\n",
    "for i in range(len(users_sorted)):\n",
    "    print(i + 1, \": \", users_sorted[i], \"(\", scores_sorted[i], \")\")\n"
   ]
  },
  {
   "cell_type": "markdown",
   "metadata": {},
   "source": [
    "# Current word prediction\n",
    "Might be better if it only used the words that the user send themselves. It would also be good to check if the words exist (dictionary lookup)."
   ]
  },
  {
   "cell_type": "code",
   "execution_count": 6,
   "metadata": {},
   "outputs": [
    {
     "name": "stdout",
     "output_type": "stream",
     "text": [
      "search: \n",
      "how many results? 10\n",
      "\n",
      "180   ik\n",
      "166   is\n",
      "157   je\n",
      "125   en\n",
      "104   het\n",
      "91   dat\n",
      "69   wel\n",
      "57   voor\n",
      "44   was\n",
      "40   nog\n"
     ]
    }
   ],
   "source": [
    "# get words from messages\n",
    "words = []\n",
    "for i in range(len(text)):\n",
    "    # check if message\n",
    "    if text[i].count(\":\") > 1:\n",
    "        # get content\n",
    "        content = text[i].split(\":\", 2)[2:]\n",
    "        \n",
    "        # edit content\n",
    "        for j in range(len(content)):\n",
    "            # replace media\n",
    "            content[j] = content[j].replace(\"<Media weggelaten>\", \"\")\n",
    "            \n",
    "            # make lowercase\n",
    "            content[j] = content[j].lower()\n",
    "            \n",
    "            # split on words\n",
    "            message = content[j].split()\n",
    "            \n",
    "            # add every word to words\n",
    "            for word in message:\n",
    "                words.append(word)\n",
    "\n",
    "# empty items that are not alphabetical\n",
    "for i in range(len(words)):\n",
    "    w = \"\"\n",
    "    for char in words[i]:\n",
    "        if char.isalpha():\n",
    "            w += char\n",
    "        \n",
    "    words[i] = w\n",
    "\n",
    "# remove empty items\n",
    "words = [w for w in words if w != \"\"]\n",
    "\n",
    "# create word count dictionary\n",
    "wordcount = {}\n",
    "for word in words:\n",
    "    if word in wordcount:\n",
    "        wordcount[word] += 1\n",
    "    else:\n",
    "        wordcount[word] = 1\n",
    "\n",
    "# get most likely words for input\n",
    "u_input = input(\"search: \")\n",
    "result_no = int(input(\"how many results? \"))\n",
    "print()\n",
    "\n",
    "best_matches = [\"\" for i in range(result_no)]\n",
    "best_scores = [0 for i in range(result_no)]\n",
    "\n",
    "for word in wordcount:\n",
    "    # check if word starts with user input\n",
    "    if word.startswith(u_input): \n",
    "        # check position\n",
    "        for score in range(len(best_scores)):\n",
    "            # assign position\n",
    "            if wordcount[word] > best_scores[score]:\n",
    "                best_matches[score] = word\n",
    "                best_scores[score] = wordcount[word]\n",
    "                break\n",
    "\n",
    "# show top results\n",
    "for i in range(len(best_matches)):\n",
    "    print(best_scores[i], \" \", best_matches[i])"
   ]
  },
  {
   "cell_type": "markdown",
   "metadata": {},
   "source": [
    "# Next word prediction\n",
    "Might be good to check if the suggested word exists (dictionary lookup)."
   ]
  },
  {
   "cell_type": "code",
   "execution_count": 8,
   "metadata": {},
   "outputs": [
    {
     "name": "stdout",
     "output_type": "stream",
     "text": [
      "search: haha\n",
      "how many results? 5\n",
      "\n",
      "1   haha gefeliciteerd\n",
      "1   haha ja\n",
      "1   haha daar\n",
      "1   haha i\n",
      "1   haha ik\n"
     ]
    }
   ],
   "source": [
    "# dict\n",
    "d = {}\n",
    "\n",
    "# fill dict\n",
    "for word in words:\n",
    "    if word not in d:\n",
    "        d[word] = {}\n",
    "\n",
    "# fill dicts of dict\n",
    "for i in range(len(words) - 1):\n",
    "    if words[i + 1] in d[words[i]]:\n",
    "        d[words[i]][words[i + 1]] += 1\n",
    "    else:\n",
    "        d[words[i]][words[i + 1]] = 1\n",
    "\n",
    "# get user input\n",
    "u_input = input(\"search: \")\n",
    "result_no = int(input(\"how many results? \"))\n",
    "print()\n",
    "\n",
    "# check if input is a word\n",
    "if u_input not in d:\n",
    "    print(\"That word has not been used yet.\")\n",
    "else:\n",
    "    # sort\n",
    "    best_matches = [\"\" for i in range(result_no)]\n",
    "    best_scores = [0 for i in range(result_no)]\n",
    "    \n",
    "    for word in d[u_input]:\n",
    "        for score in range(len(best_scores)):\n",
    "            if d[u_input][word] > best_scores[score]:\n",
    "                best_matches[score] = word\n",
    "                best_scores[score] = d[u_input][word]\n",
    "                break\n",
    "                \n",
    "    # show top results\n",
    "    for i in range(len(best_matches)):\n",
    "        print(best_scores[i], \" \", u_input, best_matches[i])\n",
    "\n",
    "\n"
   ]
  },
  {
   "cell_type": "markdown",
   "metadata": {},
   "source": []
  }
 ],
 "metadata": {
  "kernelspec": {
   "display_name": "Python 3",
   "language": "python",
   "name": "python3"
  },
  "language_info": {
   "codemirror_mode": {
    "name": "ipython",
    "version": 3
   },
   "file_extension": ".py",
   "mimetype": "text/x-python",
   "name": "python",
   "nbconvert_exporter": "python",
   "pygments_lexer": "ipython3",
   "version": "3.6.3"
  }
 },
 "nbformat": 4,
 "nbformat_minor": 2
}
